{
 "cells": [
  {
   "cell_type": "code",
   "execution_count": null,
   "metadata": {},
   "outputs": [],
   "source": [
    "import numpy as np\n",
    "import pandas as pd"
   ]
  },
  {
   "cell_type": "markdown",
   "metadata": {},
   "source": [
    "## No 1"
   ]
  },
  {
   "cell_type": "markdown",
   "metadata": {},
   "source": [
    "a) Buatlah sebuah array dengan perintah arrange yang nilai start dan end adalah sebuah input! b) Dari array yang terbentuk tersebut, buatlah versi 2 dan 3 dimensinya!"
   ]
  },
  {
   "cell_type": "code",
   "execution_count": 4,
   "metadata": {},
   "outputs": [
    {
     "name": "stdout",
     "output_type": "stream",
     "text": [
      "Mulai: 1\n",
      "Selesai: 13\n"
     ]
    }
   ],
   "source": [
    "start=int(input('Mulai: '))\n",
    "end=int(input('Selesai: '))"
   ]
  },
  {
   "cell_type": "code",
   "execution_count": 5,
   "metadata": {},
   "outputs": [
    {
     "data": {
      "text/plain": [
       "array([ 1,  2,  3,  4,  5,  6,  7,  8,  9, 10, 11, 12])"
      ]
     },
     "execution_count": 5,
     "metadata": {},
     "output_type": "execute_result"
    }
   ],
   "source": [
    "array_awal=np.arange(start,end)\n",
    "array_awal"
   ]
  },
  {
   "cell_type": "code",
   "execution_count": 6,
   "metadata": {},
   "outputs": [
    {
     "data": {
      "text/plain": [
       "array([[ 1,  2,  3,  4,  5,  6],\n",
       "       [ 7,  8,  9, 10, 11, 12]])"
      ]
     },
     "execution_count": 6,
     "metadata": {},
     "output_type": "execute_result"
    }
   ],
   "source": [
    "array_awal.reshape(2,-1)"
   ]
  },
  {
   "cell_type": "code",
   "execution_count": 7,
   "metadata": {},
   "outputs": [
    {
     "data": {
      "text/plain": [
       "array([[[ 1,  2],\n",
       "        [ 3,  4],\n",
       "        [ 5,  6]],\n",
       "\n",
       "       [[ 7,  8],\n",
       "        [ 9, 10],\n",
       "        [11, 12]]])"
      ]
     },
     "execution_count": 7,
     "metadata": {},
     "output_type": "execute_result"
    }
   ],
   "source": [
    "array_awal.reshape(2,3,-1)"
   ]
  },
  {
   "cell_type": "markdown",
   "metadata": {},
   "source": [
    "## No 2"
   ]
  },
  {
   "cell_type": "markdown",
   "metadata": {},
   "source": [
    "a) Buatlah sebuah array 1 dimensi dari data random integer sebanyak “n”, dimana “n” tersebut adalah sebuah input ! b) Batasan random juga ditentukan dalam input. c) Ubahlah array 1 dimensi tersebut ke dalam bentuk 2 dimensi atau matrix! d) Setelah diubah ke bentuk 2 dimensi, setiap barisnya baliklah urutan datanya! Misalnya dari 1, 2, 3 menjadi 3, 2, 1."
   ]
  },
  {
   "cell_type": "code",
   "execution_count": 8,
   "metadata": {},
   "outputs": [
    {
     "name": "stdout",
     "output_type": "stream",
     "text": [
      "Mulai: 1\n",
      "Selesai: 21\n",
      "Jumlah data: 40\n"
     ]
    }
   ],
   "source": [
    "start=int(input('Mulai: '))\n",
    "end=int(input('Selesai: '))\n",
    "n=int(input('Jumlah data: '))"
   ]
  },
  {
   "cell_type": "code",
   "execution_count": 9,
   "metadata": {},
   "outputs": [
    {
     "data": {
      "text/plain": [
       "array([17, 10, 16,  2,  1,  7, 16,  5, 18,  7,  2,  4, 15,  9, 12, 16, 12,\n",
       "       10, 19,  6, 18,  9,  7, 19, 17,  6, 15,  8,  8, 20,  7, 15, 11,  8,\n",
       "       18,  5, 16,  7,  6, 13])"
      ]
     },
     "execution_count": 9,
     "metadata": {},
     "output_type": "execute_result"
    }
   ],
   "source": [
    "data=np.random.randint(start,end,n)\n",
    "data"
   ]
  },
  {
   "cell_type": "code",
   "execution_count": 10,
   "metadata": {},
   "outputs": [
    {
     "data": {
      "text/plain": [
       "array([[17, 10, 16,  2,  1],\n",
       "       [ 7, 16,  5, 18,  7],\n",
       "       [ 2,  4, 15,  9, 12],\n",
       "       [16, 12, 10, 19,  6],\n",
       "       [18,  9,  7, 19, 17],\n",
       "       [ 6, 15,  8,  8, 20],\n",
       "       [ 7, 15, 11,  8, 18],\n",
       "       [ 5, 16,  7,  6, 13]])"
      ]
     },
     "execution_count": 10,
     "metadata": {},
     "output_type": "execute_result"
    }
   ],
   "source": [
    "matrix=data.reshape(8,-5)\n",
    "matrix"
   ]
  },
  {
   "cell_type": "code",
   "execution_count": 12,
   "metadata": {},
   "outputs": [
    {
     "data": {
      "text/plain": [
       "array([[ 1,  2, 16, 10, 17],\n",
       "       [ 7, 18,  5, 16,  7],\n",
       "       [12,  9, 15,  4,  2],\n",
       "       [ 6, 19, 10, 12, 16],\n",
       "       [17, 19,  7,  9, 18],\n",
       "       [20,  8,  8, 15,  6],\n",
       "       [18,  8, 11, 15,  7],\n",
       "       [13,  6,  7, 16,  5]])"
      ]
     },
     "execution_count": 12,
     "metadata": {},
     "output_type": "execute_result"
    }
   ],
   "source": [
    "np.fliplr(matrix)"
   ]
  },
  {
   "cell_type": "code",
   "execution_count": 14,
   "metadata": {},
   "outputs": [
    {
     "data": {
      "text/plain": [
       "array([[ 1,  2, 16, 10, 17],\n",
       "       [ 7, 18,  5, 16,  7],\n",
       "       [12,  9, 15,  4,  2],\n",
       "       [ 6, 19, 10, 12, 16],\n",
       "       [17, 19,  7,  9, 18],\n",
       "       [20,  8,  8, 15,  6],\n",
       "       [18,  8, 11, 15,  7],\n",
       "       [13,  6,  7, 16,  5]])"
      ]
     },
     "execution_count": 14,
     "metadata": {},
     "output_type": "execute_result"
    }
   ],
   "source": [
    "matrix[:,::-1]"
   ]
  },
  {
   "cell_type": "markdown",
   "metadata": {},
   "source": [
    "## No 3"
   ]
  },
  {
   "cell_type": "markdown",
   "metadata": {},
   "source": [
    "a) Buatlah sebuah array 2 dimensi dengan ukuran 10 x 10! b) Isi dari array tersebut adalah:\n",
    "\n",
    "Sisi luarnya merupakan angka 4.\n",
    "Selain sisi luar, angka yang ditampilkan adalah 0."
   ]
  },
  {
   "cell_type": "code",
   "execution_count": 15,
   "metadata": {},
   "outputs": [
    {
     "data": {
      "text/plain": [
       "array([[4., 4., 4., 4., 4., 4., 4., 4., 4., 4.],\n",
       "       [4., 0., 0., 0., 0., 0., 0., 0., 0., 4.],\n",
       "       [4., 0., 0., 0., 0., 0., 0., 0., 0., 4.],\n",
       "       [4., 0., 0., 0., 0., 0., 0., 0., 0., 4.],\n",
       "       [4., 0., 0., 0., 0., 0., 0., 0., 0., 4.],\n",
       "       [4., 0., 0., 0., 0., 0., 0., 0., 0., 4.],\n",
       "       [4., 0., 0., 0., 0., 0., 0., 0., 0., 4.],\n",
       "       [4., 0., 0., 0., 0., 0., 0., 0., 0., 4.],\n",
       "       [4., 0., 0., 0., 0., 0., 0., 0., 0., 4.],\n",
       "       [4., 4., 4., 4., 4., 4., 4., 4., 4., 4.]])"
      ]
     },
     "execution_count": 15,
     "metadata": {},
     "output_type": "execute_result"
    }
   ],
   "source": [
    "my_array=np.ones((10,10))*4\n",
    "my_array[1:-1,1:-1]=0\n",
    "my_array"
   ]
  },
  {
   "cell_type": "markdown",
   "metadata": {},
   "source": [
    "## No 4"
   ]
  },
  {
   "cell_type": "markdown",
   "metadata": {},
   "source": [
    "a) Buatlah sebuah Series dengan menggunakan library Pandas! b) Index pada Series tersebut berupa huruf lowercase dari a hingga z. c) Data dari tiap indexnya adalah nomor dari 1 hingga 26."
   ]
  },
  {
   "cell_type": "code",
   "execution_count": 16,
   "metadata": {},
   "outputs": [],
   "source": [
    "import string"
   ]
  },
  {
   "cell_type": "code",
   "execution_count": 17,
   "metadata": {},
   "outputs": [
    {
     "data": {
      "text/plain": [
       "a     1\n",
       "b     2\n",
       "c     3\n",
       "d     4\n",
       "e     5\n",
       "f     6\n",
       "g     7\n",
       "h     8\n",
       "i     9\n",
       "j    10\n",
       "k    11\n",
       "l    12\n",
       "m    13\n",
       "n    14\n",
       "o    15\n",
       "p    16\n",
       "q    17\n",
       "r    18\n",
       "s    19\n",
       "t    20\n",
       "u    21\n",
       "v    22\n",
       "w    23\n",
       "x    24\n",
       "y    25\n",
       "z    26\n",
       "dtype: int32"
      ]
     },
     "execution_count": 17,
     "metadata": {},
     "output_type": "execute_result"
    }
   ],
   "source": [
    "lbls=list(string.ascii_lowercase) \n",
    "arys=np.arange(1,27)\n",
    "pd.Series(arys,lbls)"
   ]
  },
  {
   "cell_type": "markdown",
   "metadata": {},
   "source": [
    "## No 5"
   ]
  },
  {
   "cell_type": "markdown",
   "metadata": {},
   "source": [
    "a) Buatlah sebuah Series menggunakan angka random integer dari 1 hingga 5 sebanyak 100! b) Hitunglah banyaknya frekuensi tiap angka! c) Cari tahu 2 nilai dengan frekuensi tertinggi!"
   ]
  },
  {
   "cell_type": "code",
   "execution_count": 20,
   "metadata": {},
   "outputs": [
    {
     "data": {
      "text/plain": [
       "array([2, 3, 4, 3, 4, 3, 1, 1, 3, 2, 3, 4, 3, 2, 2, 1, 1, 1, 2, 3, 4, 4,\n",
       "       4, 2, 4, 1, 2, 2, 3, 4, 2, 3, 1, 3, 4, 2, 1, 4, 4, 4, 1, 2, 2, 1,\n",
       "       3, 3, 3, 4, 4, 3, 4, 3, 4, 3, 2, 3, 2, 2, 4, 3, 2, 1, 4, 4, 3, 3,\n",
       "       4, 3, 2, 2, 1, 1, 1, 3, 1, 4, 4, 1, 3, 4, 2, 4, 2, 4, 2, 1, 3, 2,\n",
       "       4, 3, 4, 2, 4, 3, 3, 4, 4, 2, 1, 1])"
      ]
     },
     "execution_count": 20,
     "metadata": {},
     "output_type": "execute_result"
    }
   ],
   "source": [
    "np1=np.random.randint (1,5,100)\n",
    "np1"
   ]
  },
  {
   "cell_type": "code",
   "execution_count": 21,
   "metadata": {},
   "outputs": [
    {
     "data": {
      "text/plain": [
       "0     2\n",
       "1     3\n",
       "2     4\n",
       "3     3\n",
       "4     4\n",
       "     ..\n",
       "95    4\n",
       "96    4\n",
       "97    2\n",
       "98    1\n",
       "99    1\n",
       "Length: 100, dtype: int32"
      ]
     },
     "execution_count": 21,
     "metadata": {},
     "output_type": "execute_result"
    }
   ],
   "source": [
    "srs1=pd.Series(np1)\n",
    "srs1"
   ]
  },
  {
   "cell_type": "code",
   "execution_count": 22,
   "metadata": {},
   "outputs": [
    {
     "data": {
      "text/plain": [
       "4    30\n",
       "3    27\n",
       "2    24\n",
       "1    19\n",
       "dtype: int64"
      ]
     },
     "execution_count": 22,
     "metadata": {},
     "output_type": "execute_result"
    }
   ],
   "source": [
    "srsfreq=srs1.value_counts()\n",
    "srsfreq"
   ]
  },
  {
   "cell_type": "code",
   "execution_count": 24,
   "metadata": {},
   "outputs": [
    {
     "data": {
      "text/plain": [
       "4    30\n",
       "3    27\n",
       "dtype: int64"
      ]
     },
     "execution_count": 24,
     "metadata": {},
     "output_type": "execute_result"
    }
   ],
   "source": [
    "srsfreq.head(2)"
   ]
  },
  {
   "cell_type": "markdown",
   "metadata": {},
   "source": [
    "## No 6"
   ]
  },
  {
   "cell_type": "markdown",
   "metadata": {},
   "source": [
    "a) Import library “seaborn”. Lalu, load data yang bernama “MPG”! b) Tampilkan 5 data teratas pada DataFrame dari data “MPG”! c) Tampilkan statistik deskriptif atau Describe data selain data numerik! d) Tampilkan seluruh nama kolom pada DataFrame! e) Hitung Jumlah Missing Value (data kosong) di setiap kolomnya!"
   ]
  },
  {
   "cell_type": "code",
   "execution_count": 29,
   "metadata": {},
   "outputs": [
    {
     "data": {
      "text/html": [
       "<div>\n",
       "<style scoped>\n",
       "    .dataframe tbody tr th:only-of-type {\n",
       "        vertical-align: middle;\n",
       "    }\n",
       "\n",
       "    .dataframe tbody tr th {\n",
       "        vertical-align: top;\n",
       "    }\n",
       "\n",
       "    .dataframe thead th {\n",
       "        text-align: right;\n",
       "    }\n",
       "</style>\n",
       "<table border=\"1\" class=\"dataframe\">\n",
       "  <thead>\n",
       "    <tr style=\"text-align: right;\">\n",
       "      <th></th>\n",
       "      <th>mpg</th>\n",
       "      <th>cylinders</th>\n",
       "      <th>displacement</th>\n",
       "      <th>horsepower</th>\n",
       "      <th>weight</th>\n",
       "      <th>acceleration</th>\n",
       "      <th>model_year</th>\n",
       "      <th>origin</th>\n",
       "      <th>name</th>\n",
       "    </tr>\n",
       "  </thead>\n",
       "  <tbody>\n",
       "    <tr>\n",
       "      <th>0</th>\n",
       "      <td>18.0</td>\n",
       "      <td>8</td>\n",
       "      <td>307.0</td>\n",
       "      <td>130.0</td>\n",
       "      <td>3504</td>\n",
       "      <td>12.0</td>\n",
       "      <td>70</td>\n",
       "      <td>usa</td>\n",
       "      <td>chevrolet chevelle malibu</td>\n",
       "    </tr>\n",
       "    <tr>\n",
       "      <th>1</th>\n",
       "      <td>15.0</td>\n",
       "      <td>8</td>\n",
       "      <td>350.0</td>\n",
       "      <td>165.0</td>\n",
       "      <td>3693</td>\n",
       "      <td>11.5</td>\n",
       "      <td>70</td>\n",
       "      <td>usa</td>\n",
       "      <td>buick skylark 320</td>\n",
       "    </tr>\n",
       "    <tr>\n",
       "      <th>2</th>\n",
       "      <td>18.0</td>\n",
       "      <td>8</td>\n",
       "      <td>318.0</td>\n",
       "      <td>150.0</td>\n",
       "      <td>3436</td>\n",
       "      <td>11.0</td>\n",
       "      <td>70</td>\n",
       "      <td>usa</td>\n",
       "      <td>plymouth satellite</td>\n",
       "    </tr>\n",
       "    <tr>\n",
       "      <th>3</th>\n",
       "      <td>16.0</td>\n",
       "      <td>8</td>\n",
       "      <td>304.0</td>\n",
       "      <td>150.0</td>\n",
       "      <td>3433</td>\n",
       "      <td>12.0</td>\n",
       "      <td>70</td>\n",
       "      <td>usa</td>\n",
       "      <td>amc rebel sst</td>\n",
       "    </tr>\n",
       "    <tr>\n",
       "      <th>4</th>\n",
       "      <td>17.0</td>\n",
       "      <td>8</td>\n",
       "      <td>302.0</td>\n",
       "      <td>140.0</td>\n",
       "      <td>3449</td>\n",
       "      <td>10.5</td>\n",
       "      <td>70</td>\n",
       "      <td>usa</td>\n",
       "      <td>ford torino</td>\n",
       "    </tr>\n",
       "    <tr>\n",
       "      <th>...</th>\n",
       "      <td>...</td>\n",
       "      <td>...</td>\n",
       "      <td>...</td>\n",
       "      <td>...</td>\n",
       "      <td>...</td>\n",
       "      <td>...</td>\n",
       "      <td>...</td>\n",
       "      <td>...</td>\n",
       "      <td>...</td>\n",
       "    </tr>\n",
       "    <tr>\n",
       "      <th>393</th>\n",
       "      <td>27.0</td>\n",
       "      <td>4</td>\n",
       "      <td>140.0</td>\n",
       "      <td>86.0</td>\n",
       "      <td>2790</td>\n",
       "      <td>15.6</td>\n",
       "      <td>82</td>\n",
       "      <td>usa</td>\n",
       "      <td>ford mustang gl</td>\n",
       "    </tr>\n",
       "    <tr>\n",
       "      <th>394</th>\n",
       "      <td>44.0</td>\n",
       "      <td>4</td>\n",
       "      <td>97.0</td>\n",
       "      <td>52.0</td>\n",
       "      <td>2130</td>\n",
       "      <td>24.6</td>\n",
       "      <td>82</td>\n",
       "      <td>europe</td>\n",
       "      <td>vw pickup</td>\n",
       "    </tr>\n",
       "    <tr>\n",
       "      <th>395</th>\n",
       "      <td>32.0</td>\n",
       "      <td>4</td>\n",
       "      <td>135.0</td>\n",
       "      <td>84.0</td>\n",
       "      <td>2295</td>\n",
       "      <td>11.6</td>\n",
       "      <td>82</td>\n",
       "      <td>usa</td>\n",
       "      <td>dodge rampage</td>\n",
       "    </tr>\n",
       "    <tr>\n",
       "      <th>396</th>\n",
       "      <td>28.0</td>\n",
       "      <td>4</td>\n",
       "      <td>120.0</td>\n",
       "      <td>79.0</td>\n",
       "      <td>2625</td>\n",
       "      <td>18.6</td>\n",
       "      <td>82</td>\n",
       "      <td>usa</td>\n",
       "      <td>ford ranger</td>\n",
       "    </tr>\n",
       "    <tr>\n",
       "      <th>397</th>\n",
       "      <td>31.0</td>\n",
       "      <td>4</td>\n",
       "      <td>119.0</td>\n",
       "      <td>82.0</td>\n",
       "      <td>2720</td>\n",
       "      <td>19.4</td>\n",
       "      <td>82</td>\n",
       "      <td>usa</td>\n",
       "      <td>chevy s-10</td>\n",
       "    </tr>\n",
       "  </tbody>\n",
       "</table>\n",
       "<p>398 rows × 9 columns</p>\n",
       "</div>"
      ],
      "text/plain": [
       "      mpg  cylinders  displacement  horsepower  weight  acceleration  \\\n",
       "0    18.0          8         307.0       130.0    3504          12.0   \n",
       "1    15.0          8         350.0       165.0    3693          11.5   \n",
       "2    18.0          8         318.0       150.0    3436          11.0   \n",
       "3    16.0          8         304.0       150.0    3433          12.0   \n",
       "4    17.0          8         302.0       140.0    3449          10.5   \n",
       "..    ...        ...           ...         ...     ...           ...   \n",
       "393  27.0          4         140.0        86.0    2790          15.6   \n",
       "394  44.0          4          97.0        52.0    2130          24.6   \n",
       "395  32.0          4         135.0        84.0    2295          11.6   \n",
       "396  28.0          4         120.0        79.0    2625          18.6   \n",
       "397  31.0          4         119.0        82.0    2720          19.4   \n",
       "\n",
       "     model_year  origin                       name  \n",
       "0            70     usa  chevrolet chevelle malibu  \n",
       "1            70     usa          buick skylark 320  \n",
       "2            70     usa         plymouth satellite  \n",
       "3            70     usa              amc rebel sst  \n",
       "4            70     usa                ford torino  \n",
       "..          ...     ...                        ...  \n",
       "393          82     usa            ford mustang gl  \n",
       "394          82  europe                  vw pickup  \n",
       "395          82     usa              dodge rampage  \n",
       "396          82     usa                ford ranger  \n",
       "397          82     usa                 chevy s-10  \n",
       "\n",
       "[398 rows x 9 columns]"
      ]
     },
     "execution_count": 29,
     "metadata": {},
     "output_type": "execute_result"
    }
   ],
   "source": [
    "import seaborn as sns\n",
    "mpg=sns.load_dataset('mpg')\n",
    "mpg"
   ]
  },
  {
   "cell_type": "code",
   "execution_count": 30,
   "metadata": {},
   "outputs": [
    {
     "data": {
      "text/html": [
       "<div>\n",
       "<style scoped>\n",
       "    .dataframe tbody tr th:only-of-type {\n",
       "        vertical-align: middle;\n",
       "    }\n",
       "\n",
       "    .dataframe tbody tr th {\n",
       "        vertical-align: top;\n",
       "    }\n",
       "\n",
       "    .dataframe thead th {\n",
       "        text-align: right;\n",
       "    }\n",
       "</style>\n",
       "<table border=\"1\" class=\"dataframe\">\n",
       "  <thead>\n",
       "    <tr style=\"text-align: right;\">\n",
       "      <th></th>\n",
       "      <th>mpg</th>\n",
       "      <th>cylinders</th>\n",
       "      <th>displacement</th>\n",
       "      <th>horsepower</th>\n",
       "      <th>weight</th>\n",
       "      <th>acceleration</th>\n",
       "      <th>model_year</th>\n",
       "      <th>origin</th>\n",
       "      <th>name</th>\n",
       "    </tr>\n",
       "  </thead>\n",
       "  <tbody>\n",
       "    <tr>\n",
       "      <th>0</th>\n",
       "      <td>18.0</td>\n",
       "      <td>8</td>\n",
       "      <td>307.0</td>\n",
       "      <td>130.0</td>\n",
       "      <td>3504</td>\n",
       "      <td>12.0</td>\n",
       "      <td>70</td>\n",
       "      <td>usa</td>\n",
       "      <td>chevrolet chevelle malibu</td>\n",
       "    </tr>\n",
       "    <tr>\n",
       "      <th>1</th>\n",
       "      <td>15.0</td>\n",
       "      <td>8</td>\n",
       "      <td>350.0</td>\n",
       "      <td>165.0</td>\n",
       "      <td>3693</td>\n",
       "      <td>11.5</td>\n",
       "      <td>70</td>\n",
       "      <td>usa</td>\n",
       "      <td>buick skylark 320</td>\n",
       "    </tr>\n",
       "    <tr>\n",
       "      <th>2</th>\n",
       "      <td>18.0</td>\n",
       "      <td>8</td>\n",
       "      <td>318.0</td>\n",
       "      <td>150.0</td>\n",
       "      <td>3436</td>\n",
       "      <td>11.0</td>\n",
       "      <td>70</td>\n",
       "      <td>usa</td>\n",
       "      <td>plymouth satellite</td>\n",
       "    </tr>\n",
       "    <tr>\n",
       "      <th>3</th>\n",
       "      <td>16.0</td>\n",
       "      <td>8</td>\n",
       "      <td>304.0</td>\n",
       "      <td>150.0</td>\n",
       "      <td>3433</td>\n",
       "      <td>12.0</td>\n",
       "      <td>70</td>\n",
       "      <td>usa</td>\n",
       "      <td>amc rebel sst</td>\n",
       "    </tr>\n",
       "    <tr>\n",
       "      <th>4</th>\n",
       "      <td>17.0</td>\n",
       "      <td>8</td>\n",
       "      <td>302.0</td>\n",
       "      <td>140.0</td>\n",
       "      <td>3449</td>\n",
       "      <td>10.5</td>\n",
       "      <td>70</td>\n",
       "      <td>usa</td>\n",
       "      <td>ford torino</td>\n",
       "    </tr>\n",
       "  </tbody>\n",
       "</table>\n",
       "</div>"
      ],
      "text/plain": [
       "    mpg  cylinders  displacement  horsepower  weight  acceleration  \\\n",
       "0  18.0          8         307.0       130.0    3504          12.0   \n",
       "1  15.0          8         350.0       165.0    3693          11.5   \n",
       "2  18.0          8         318.0       150.0    3436          11.0   \n",
       "3  16.0          8         304.0       150.0    3433          12.0   \n",
       "4  17.0          8         302.0       140.0    3449          10.5   \n",
       "\n",
       "   model_year origin                       name  \n",
       "0          70    usa  chevrolet chevelle malibu  \n",
       "1          70    usa          buick skylark 320  \n",
       "2          70    usa         plymouth satellite  \n",
       "3          70    usa              amc rebel sst  \n",
       "4          70    usa                ford torino  "
      ]
     },
     "execution_count": 30,
     "metadata": {},
     "output_type": "execute_result"
    }
   ],
   "source": [
    "mpg.head()"
   ]
  },
  {
   "cell_type": "code",
   "execution_count": 31,
   "metadata": {},
   "outputs": [
    {
     "data": {
      "text/html": [
       "<div>\n",
       "<style scoped>\n",
       "    .dataframe tbody tr th:only-of-type {\n",
       "        vertical-align: middle;\n",
       "    }\n",
       "\n",
       "    .dataframe tbody tr th {\n",
       "        vertical-align: top;\n",
       "    }\n",
       "\n",
       "    .dataframe thead th {\n",
       "        text-align: right;\n",
       "    }\n",
       "</style>\n",
       "<table border=\"1\" class=\"dataframe\">\n",
       "  <thead>\n",
       "    <tr style=\"text-align: right;\">\n",
       "      <th></th>\n",
       "      <th>origin</th>\n",
       "      <th>name</th>\n",
       "    </tr>\n",
       "  </thead>\n",
       "  <tbody>\n",
       "    <tr>\n",
       "      <th>count</th>\n",
       "      <td>398</td>\n",
       "      <td>398</td>\n",
       "    </tr>\n",
       "    <tr>\n",
       "      <th>unique</th>\n",
       "      <td>3</td>\n",
       "      <td>305</td>\n",
       "    </tr>\n",
       "    <tr>\n",
       "      <th>top</th>\n",
       "      <td>usa</td>\n",
       "      <td>ford pinto</td>\n",
       "    </tr>\n",
       "    <tr>\n",
       "      <th>freq</th>\n",
       "      <td>249</td>\n",
       "      <td>6</td>\n",
       "    </tr>\n",
       "  </tbody>\n",
       "</table>\n",
       "</div>"
      ],
      "text/plain": [
       "       origin        name\n",
       "count     398         398\n",
       "unique      3         305\n",
       "top       usa  ford pinto\n",
       "freq      249           6"
      ]
     },
     "execution_count": 31,
     "metadata": {},
     "output_type": "execute_result"
    }
   ],
   "source": [
    "mpg.describe(include=object)"
   ]
  },
  {
   "cell_type": "code",
   "execution_count": 32,
   "metadata": {},
   "outputs": [
    {
     "data": {
      "text/plain": [
       "Index(['mpg', 'cylinders', 'displacement', 'horsepower', 'weight',\n",
       "       'acceleration', 'model_year', 'origin', 'name'],\n",
       "      dtype='object')"
      ]
     },
     "execution_count": 32,
     "metadata": {},
     "output_type": "execute_result"
    }
   ],
   "source": [
    "mpg.columns"
   ]
  },
  {
   "cell_type": "code",
   "execution_count": 33,
   "metadata": {},
   "outputs": [
    {
     "data": {
      "text/plain": [
       "mpg             0\n",
       "cylinders       0\n",
       "displacement    0\n",
       "horsepower      6\n",
       "weight          0\n",
       "acceleration    0\n",
       "model_year      0\n",
       "origin          0\n",
       "name            0\n",
       "dtype: int64"
      ]
     },
     "execution_count": 33,
     "metadata": {},
     "output_type": "execute_result"
    }
   ],
   "source": [
    "mpg.isna().sum()"
   ]
  },
  {
   "cell_type": "markdown",
   "metadata": {},
   "source": [
    "## No 7"
   ]
  },
  {
   "cell_type": "markdown",
   "metadata": {},
   "source": [
    "a) Import library “seaborn”, lalu load data yang bernama “MPG”! b) Tampilkan Missing value (data kosong) pada kolom ‘horsepower’! c) Tampilkan index lokasi missing value tersebut!"
   ]
  },
  {
   "cell_type": "code",
   "execution_count": 34,
   "metadata": {},
   "outputs": [
    {
     "data": {
      "text/html": [
       "<div>\n",
       "<style scoped>\n",
       "    .dataframe tbody tr th:only-of-type {\n",
       "        vertical-align: middle;\n",
       "    }\n",
       "\n",
       "    .dataframe tbody tr th {\n",
       "        vertical-align: top;\n",
       "    }\n",
       "\n",
       "    .dataframe thead th {\n",
       "        text-align: right;\n",
       "    }\n",
       "</style>\n",
       "<table border=\"1\" class=\"dataframe\">\n",
       "  <thead>\n",
       "    <tr style=\"text-align: right;\">\n",
       "      <th></th>\n",
       "      <th>mpg</th>\n",
       "      <th>cylinders</th>\n",
       "      <th>displacement</th>\n",
       "      <th>horsepower</th>\n",
       "      <th>weight</th>\n",
       "      <th>acceleration</th>\n",
       "      <th>model_year</th>\n",
       "      <th>origin</th>\n",
       "      <th>name</th>\n",
       "    </tr>\n",
       "  </thead>\n",
       "  <tbody>\n",
       "    <tr>\n",
       "      <th>32</th>\n",
       "      <td>25.0</td>\n",
       "      <td>4</td>\n",
       "      <td>98.0</td>\n",
       "      <td>NaN</td>\n",
       "      <td>2046</td>\n",
       "      <td>19.0</td>\n",
       "      <td>71</td>\n",
       "      <td>usa</td>\n",
       "      <td>ford pinto</td>\n",
       "    </tr>\n",
       "    <tr>\n",
       "      <th>126</th>\n",
       "      <td>21.0</td>\n",
       "      <td>6</td>\n",
       "      <td>200.0</td>\n",
       "      <td>NaN</td>\n",
       "      <td>2875</td>\n",
       "      <td>17.0</td>\n",
       "      <td>74</td>\n",
       "      <td>usa</td>\n",
       "      <td>ford maverick</td>\n",
       "    </tr>\n",
       "    <tr>\n",
       "      <th>330</th>\n",
       "      <td>40.9</td>\n",
       "      <td>4</td>\n",
       "      <td>85.0</td>\n",
       "      <td>NaN</td>\n",
       "      <td>1835</td>\n",
       "      <td>17.3</td>\n",
       "      <td>80</td>\n",
       "      <td>europe</td>\n",
       "      <td>renault lecar deluxe</td>\n",
       "    </tr>\n",
       "    <tr>\n",
       "      <th>336</th>\n",
       "      <td>23.6</td>\n",
       "      <td>4</td>\n",
       "      <td>140.0</td>\n",
       "      <td>NaN</td>\n",
       "      <td>2905</td>\n",
       "      <td>14.3</td>\n",
       "      <td>80</td>\n",
       "      <td>usa</td>\n",
       "      <td>ford mustang cobra</td>\n",
       "    </tr>\n",
       "    <tr>\n",
       "      <th>354</th>\n",
       "      <td>34.5</td>\n",
       "      <td>4</td>\n",
       "      <td>100.0</td>\n",
       "      <td>NaN</td>\n",
       "      <td>2320</td>\n",
       "      <td>15.8</td>\n",
       "      <td>81</td>\n",
       "      <td>europe</td>\n",
       "      <td>renault 18i</td>\n",
       "    </tr>\n",
       "    <tr>\n",
       "      <th>374</th>\n",
       "      <td>23.0</td>\n",
       "      <td>4</td>\n",
       "      <td>151.0</td>\n",
       "      <td>NaN</td>\n",
       "      <td>3035</td>\n",
       "      <td>20.5</td>\n",
       "      <td>82</td>\n",
       "      <td>usa</td>\n",
       "      <td>amc concord dl</td>\n",
       "    </tr>\n",
       "  </tbody>\n",
       "</table>\n",
       "</div>"
      ],
      "text/plain": [
       "      mpg  cylinders  displacement  horsepower  weight  acceleration  \\\n",
       "32   25.0          4          98.0         NaN    2046          19.0   \n",
       "126  21.0          6         200.0         NaN    2875          17.0   \n",
       "330  40.9          4          85.0         NaN    1835          17.3   \n",
       "336  23.6          4         140.0         NaN    2905          14.3   \n",
       "354  34.5          4         100.0         NaN    2320          15.8   \n",
       "374  23.0          4         151.0         NaN    3035          20.5   \n",
       "\n",
       "     model_year  origin                  name  \n",
       "32           71     usa            ford pinto  \n",
       "126          74     usa         ford maverick  \n",
       "330          80  europe  renault lecar deluxe  \n",
       "336          80     usa    ford mustang cobra  \n",
       "354          81  europe           renault 18i  \n",
       "374          82     usa        amc concord dl  "
      ]
     },
     "execution_count": 34,
     "metadata": {},
     "output_type": "execute_result"
    }
   ],
   "source": [
    "mpg[mpg['horsepower'].isna()]"
   ]
  },
  {
   "cell_type": "code",
   "execution_count": 36,
   "metadata": {},
   "outputs": [
    {
     "data": {
      "text/plain": [
       "Int64Index([32, 126, 330, 336, 354, 374], dtype='int64')"
      ]
     },
     "execution_count": 36,
     "metadata": {},
     "output_type": "execute_result"
    }
   ],
   "source": [
    "mpg[mpg['horsepower'].isna()].index"
   ]
  },
  {
   "cell_type": "markdown",
   "metadata": {},
   "source": [
    "## No 8"
   ]
  },
  {
   "cell_type": "markdown",
   "metadata": {},
   "source": [
    "a) Import library “seaborn”, lalu load data yang bernama “MPG”! b) Lakukan grouping atau pengelompokan berdasarkan kolom ‘origin’! Tampilkan rata-rata dari ‘horsepower’ di setiap kelompok origin-nya!"
   ]
  },
  {
   "cell_type": "code",
   "execution_count": 37,
   "metadata": {},
   "outputs": [
    {
     "data": {
      "text/plain": [
       "model_year\n",
       "70    147.827586\n",
       "71    107.037037\n",
       "72    120.178571\n",
       "73    130.475000\n",
       "74     94.230769\n",
       "75    101.066667\n",
       "76    101.117647\n",
       "77    105.071429\n",
       "78     99.694444\n",
       "79    101.206897\n",
       "80     77.481481\n",
       "81     81.035714\n",
       "82     81.466667\n",
       "Name: horsepower, dtype: float64"
      ]
     },
     "execution_count": 37,
     "metadata": {},
     "output_type": "execute_result"
    }
   ],
   "source": [
    "mpg.groupby('model_year').mean()['horsepower']"
   ]
  },
  {
   "cell_type": "markdown",
   "metadata": {},
   "source": [
    "## No 9"
   ]
  },
  {
   "cell_type": "markdown",
   "metadata": {},
   "source": [
    "a) Import library “seaborn”, lalu load data yang bernama “MPG”! b) Buatlah sebuah kolom baru yang bernama ‘horse_origin’! c) Kolom ‘horse_origin’ ini harus diisi menggunakan fungsi berisikan: ❑ Jika nilai ‘horsepower’ <= 105, tampilkan ‘lower’ + ‘nama origin’ pada baris yang sama. Contohnya ‘lower USA’. ❑ Jika nilai ‘horsepower’ > 105, tampilkan ‘upper’ + ‘nama origin’."
   ]
  },
  {
   "cell_type": "code",
   "execution_count": 38,
   "metadata": {},
   "outputs": [
    {
     "data": {
      "text/plain": [
       "0         upper usa\n",
       "1         upper usa\n",
       "2         upper usa\n",
       "3         upper usa\n",
       "4         upper usa\n",
       "           ...     \n",
       "393       lower usa\n",
       "394    lower europe\n",
       "395       lower usa\n",
       "396       lower usa\n",
       "397       lower usa\n",
       "Length: 398, dtype: object"
      ]
     },
     "execution_count": 38,
     "metadata": {},
     "output_type": "execute_result"
    }
   ],
   "source": [
    "mpg['horsepower'].apply(lambda x: 'lower' if x<=105 else 'upper')+' '+mpg['origin']"
   ]
  },
  {
   "cell_type": "code",
   "execution_count": 44,
   "metadata": {},
   "outputs": [
    {
     "data": {
      "text/plain": [
       "0         upper usa\n",
       "1         upper usa\n",
       "2         upper usa\n",
       "3         upper usa\n",
       "4         upper usa\n",
       "           ...     \n",
       "393       lower usa\n",
       "394    lower europe\n",
       "395       lower usa\n",
       "396       lower usa\n",
       "397       lower usa\n",
       "Name: origin, Length: 398, dtype: object"
      ]
     },
     "execution_count": 44,
     "metadata": {},
     "output_type": "execute_result"
    }
   ],
   "source": [
    "['lower ' if i<=105 else 'upper ' for i in mpg['horsepower']]+(mpg['origin'])"
   ]
  },
  {
   "cell_type": "code",
   "execution_count": 45,
   "metadata": {},
   "outputs": [
    {
     "data": {
      "text/plain": [
       "array(['upper usa', 'upper usa', 'upper usa', 'upper usa', 'upper usa',\n",
       "       'upper usa', 'upper usa', 'upper usa', 'upper usa', 'upper usa',\n",
       "       'upper usa', 'upper usa', 'upper usa', 'upper usa', 'lower japan',\n",
       "       'lower usa', 'lower usa', 'lower usa', 'lower japan',\n",
       "       'lower europe', 'lower europe', 'lower europe', 'lower europe',\n",
       "       'upper europe', 'lower usa', 'upper usa', 'upper usa', 'upper usa',\n",
       "       'upper usa', 'lower japan', 'lower usa', 'lower japan',\n",
       "       'upper usa', 'lower usa', 'lower usa', 'lower usa', 'lower usa',\n",
       "       'lower usa', 'upper usa', 'upper usa', 'upper usa', 'upper usa',\n",
       "       'upper usa', 'upper usa', 'upper usa', 'upper usa', 'lower usa',\n",
       "       'lower usa', 'lower usa', 'lower usa', 'lower europe',\n",
       "       'lower europe', 'lower europe', 'lower japan', 'lower japan',\n",
       "       'lower europe', 'lower usa', 'lower japan', 'lower usa',\n",
       "       'lower europe', 'lower usa', 'lower usa', 'upper usa', 'upper usa',\n",
       "       'upper usa', 'upper usa', 'upper usa', 'upper usa', 'upper usa',\n",
       "       'upper usa', 'upper usa', 'lower japan', 'upper usa', 'upper usa',\n",
       "       'upper usa', 'upper usa', 'upper europe', 'lower europe',\n",
       "       'lower europe', 'lower europe', 'lower usa', 'lower japan',\n",
       "       'lower japan', 'lower usa', 'lower japan', 'upper usa',\n",
       "       'upper usa', 'upper usa', 'upper usa', 'upper usa', 'upper usa',\n",
       "       'upper usa', 'upper usa', 'upper usa', 'upper usa', 'upper usa',\n",
       "       'upper usa', 'lower usa', 'lower usa', 'lower usa', 'lower usa',\n",
       "       'lower usa', 'lower europe', 'upper usa', 'upper usa', 'upper usa',\n",
       "       'upper usa', 'lower usa', 'lower japan', 'lower usa',\n",
       "       'lower japan', 'lower japan', 'lower usa', 'upper usa',\n",
       "       'lower europe', 'upper usa', 'upper usa', 'lower europe',\n",
       "       'lower europe', 'lower europe', 'upper europe', 'upper usa',\n",
       "       'upper europe', 'upper japan', 'upper usa', 'lower usa',\n",
       "       'upper usa', 'lower usa', 'lower usa', 'lower japan', 'lower usa',\n",
       "       'lower japan', 'lower usa', 'lower usa', 'upper usa', 'lower usa',\n",
       "       'upper usa', 'upper usa', 'upper usa', 'upper usa', 'upper usa',\n",
       "       'lower europe', 'lower europe', 'lower europe', 'lower japan',\n",
       "       'lower japan', 'lower usa', 'lower europe', 'lower europe',\n",
       "       'lower japan', 'lower japan', 'lower europe', 'lower usa',\n",
       "       'lower usa', 'lower usa', 'lower usa', 'upper usa', 'upper usa',\n",
       "       'upper usa', 'upper usa', 'upper usa', 'lower usa', 'upper usa',\n",
       "       'lower usa', 'upper usa', 'upper usa', 'upper usa', 'lower japan',\n",
       "       'lower usa', 'lower usa', 'lower usa', 'lower japan',\n",
       "       'lower europe', 'lower japan', 'lower usa', 'lower europe',\n",
       "       'lower usa', 'lower europe', 'lower europe', 'lower europe',\n",
       "       'upper europe', 'lower japan', 'lower europe', 'lower europe',\n",
       "       'lower usa', 'lower usa', 'lower europe', 'upper usa', 'upper usa',\n",
       "       'upper usa', 'upper usa', 'lower usa', 'lower usa', 'lower usa',\n",
       "       'lower usa', 'lower usa', 'lower usa', 'lower europe',\n",
       "       'lower japan', 'lower usa', 'lower usa', 'upper usa', 'lower usa',\n",
       "       'lower europe', 'lower japan', 'lower japan', 'lower usa',\n",
       "       'lower europe', 'upper usa', 'lower europe', 'upper japan',\n",
       "       'upper europe', 'upper usa', 'upper usa', 'upper usa', 'upper usa',\n",
       "       'lower japan', 'lower usa', 'lower europe', 'lower usa',\n",
       "       'lower japan', 'upper usa', 'upper usa', 'upper usa', 'upper usa',\n",
       "       'upper usa', 'lower usa', 'lower usa', 'lower usa', 'upper usa',\n",
       "       'upper usa', 'upper usa', 'upper usa', 'lower europe', 'lower usa',\n",
       "       'lower japan', 'lower usa', 'lower usa', 'lower usa',\n",
       "       'lower japan', 'lower europe', 'lower japan', 'upper europe',\n",
       "       'upper japan', 'lower europe', 'lower usa', 'lower japan',\n",
       "       'lower japan', 'lower japan', 'upper usa', 'upper usa',\n",
       "       'upper usa', 'lower usa', 'lower usa', 'lower usa', 'lower usa',\n",
       "       'lower usa', 'lower usa', 'lower usa', 'lower usa', 'upper usa',\n",
       "       'upper usa', 'upper usa', 'upper usa', 'upper usa', 'upper usa',\n",
       "       'lower usa', 'lower japan', 'lower japan', 'lower usa',\n",
       "       'lower japan', 'lower usa', 'lower usa', 'lower japan',\n",
       "       'lower europe', 'upper europe', 'upper europe', 'upper europe',\n",
       "       'lower europe', 'lower japan', 'upper usa', 'lower usa',\n",
       "       'lower usa', 'lower usa', 'upper usa', 'upper usa', 'upper usa',\n",
       "       'upper usa', 'upper usa', 'upper usa', 'upper usa', 'upper usa',\n",
       "       'upper usa', 'lower europe', 'lower japan', 'lower usa',\n",
       "       'lower usa', 'lower europe', 'upper usa', 'lower europe',\n",
       "       'lower usa', 'lower usa', 'lower usa', 'lower japan',\n",
       "       'lower europe', 'lower usa', 'upper usa', 'upper usa', 'lower usa',\n",
       "       'lower europe', 'lower japan', 'lower usa', 'lower japan',\n",
       "       'lower usa', 'lower usa', 'lower usa', 'lower usa', 'lower europe',\n",
       "       'lower japan', 'lower japan', 'lower japan', 'lower japan',\n",
       "       'lower japan', 'lower usa', 'lower japan', 'lower europe',\n",
       "       'lower europe', 'lower europe', 'lower europe', 'lower japan',\n",
       "       'upper europe', 'lower japan', 'lower europe', 'upper japan',\n",
       "       'lower japan', 'lower europe', 'upper usa', 'lower japan',\n",
       "       'lower usa', 'lower usa', 'lower usa', 'upper usa', 'lower usa',\n",
       "       'lower japan', 'lower usa', 'lower japan', 'lower japan',\n",
       "       'lower japan', 'lower japan', 'lower japan', 'lower usa',\n",
       "       'lower usa', 'lower usa', 'lower europe', 'upper europe',\n",
       "       'lower japan', 'lower japan', 'lower japan', 'lower japan',\n",
       "       'lower europe', 'lower europe', 'upper japan', 'upper japan',\n",
       "       'upper usa', 'lower usa', 'lower usa', 'lower usa', 'lower usa',\n",
       "       'lower usa', 'lower usa', 'lower usa', 'lower usa', 'lower usa',\n",
       "       'lower usa', 'upper usa', 'lower europe', 'lower japan',\n",
       "       'lower japan', 'lower usa', 'lower usa', 'lower japan',\n",
       "       'lower japan', 'lower japan', 'lower japan', 'lower japan',\n",
       "       'lower japan', 'upper usa', 'lower usa', 'lower usa', 'upper usa',\n",
       "       'lower japan', 'lower usa', 'lower usa', 'lower usa',\n",
       "       'lower europe', 'lower usa', 'lower usa', 'lower usa'],\n",
       "      dtype=object)"
      ]
     },
     "execution_count": 45,
     "metadata": {},
     "output_type": "execute_result"
    }
   ],
   "source": [
    "np.where(mpg.horsepower<=105,'lower '+mpg.origin,'upper '+mpg.origin)"
   ]
  },
  {
   "cell_type": "code",
   "execution_count": 49,
   "metadata": {},
   "outputs": [],
   "source": [
    "def add_horse(x):\n",
    "    if x['horsepower']<=105:\n",
    "        return f'lower {x[\"origin\"]}'\n",
    "    else:\n",
    "        return f'upper {x[\"origin\"]}'"
   ]
  },
  {
   "cell_type": "code",
   "execution_count": 50,
   "metadata": {},
   "outputs": [
    {
     "data": {
      "text/plain": [
       "0         upper usa\n",
       "1         upper usa\n",
       "2         upper usa\n",
       "3         upper usa\n",
       "4         upper usa\n",
       "           ...     \n",
       "393       lower usa\n",
       "394    lower europe\n",
       "395       lower usa\n",
       "396       lower usa\n",
       "397       lower usa\n",
       "Length: 398, dtype: object"
      ]
     },
     "execution_count": 50,
     "metadata": {},
     "output_type": "execute_result"
    }
   ],
   "source": [
    "mpg[['horsepower','origin']].apply(add_horse,axis=1)"
   ]
  },
  {
   "cell_type": "markdown",
   "metadata": {},
   "source": [
    "## NO 10"
   ]
  },
  {
   "cell_type": "markdown",
   "metadata": {},
   "source": [
    "a) Import library “seaborn”, lalu load data yang bernama “MPG”! b) Lakukan pengelompokan atau grouping kolom ‘weight’ berdasarkan kolom ‘origin’ dengan aggregating mean, standart deviasi, sum, count, min, dan max! c) Lakukan reset index sehingga kolom ‘origin’ tidak lagi menjadi index tapi tetap menjadi kolom!"
   ]
  },
  {
   "cell_type": "code",
   "execution_count": 51,
   "metadata": {},
   "outputs": [
    {
     "data": {
      "text/html": [
       "<div>\n",
       "<style scoped>\n",
       "    .dataframe tbody tr th:only-of-type {\n",
       "        vertical-align: middle;\n",
       "    }\n",
       "\n",
       "    .dataframe tbody tr th {\n",
       "        vertical-align: top;\n",
       "    }\n",
       "\n",
       "    .dataframe thead th {\n",
       "        text-align: right;\n",
       "    }\n",
       "</style>\n",
       "<table border=\"1\" class=\"dataframe\">\n",
       "  <thead>\n",
       "    <tr style=\"text-align: right;\">\n",
       "      <th></th>\n",
       "      <th>origin</th>\n",
       "      <th>mean</th>\n",
       "      <th>std</th>\n",
       "      <th>sum</th>\n",
       "      <th>count</th>\n",
       "      <th>min</th>\n",
       "      <th>max</th>\n",
       "    </tr>\n",
       "  </thead>\n",
       "  <tbody>\n",
       "    <tr>\n",
       "      <th>0</th>\n",
       "      <td>europe</td>\n",
       "      <td>2423.300000</td>\n",
       "      <td>490.043191</td>\n",
       "      <td>169631</td>\n",
       "      <td>70</td>\n",
       "      <td>1825</td>\n",
       "      <td>3820</td>\n",
       "    </tr>\n",
       "    <tr>\n",
       "      <th>1</th>\n",
       "      <td>japan</td>\n",
       "      <td>2221.227848</td>\n",
       "      <td>320.497248</td>\n",
       "      <td>175477</td>\n",
       "      <td>79</td>\n",
       "      <td>1613</td>\n",
       "      <td>2930</td>\n",
       "    </tr>\n",
       "    <tr>\n",
       "      <th>2</th>\n",
       "      <td>usa</td>\n",
       "      <td>3361.931727</td>\n",
       "      <td>794.792506</td>\n",
       "      <td>837121</td>\n",
       "      <td>249</td>\n",
       "      <td>1800</td>\n",
       "      <td>5140</td>\n",
       "    </tr>\n",
       "  </tbody>\n",
       "</table>\n",
       "</div>"
      ],
      "text/plain": [
       "   origin         mean         std     sum  count   min   max\n",
       "0  europe  2423.300000  490.043191  169631     70  1825  3820\n",
       "1   japan  2221.227848  320.497248  175477     79  1613  2930\n",
       "2     usa  3361.931727  794.792506  837121    249  1800  5140"
      ]
     },
     "execution_count": 51,
     "metadata": {},
     "output_type": "execute_result"
    }
   ],
   "source": [
    "mpg.groupby('origin')['weight'].agg(['mean','std','sum','count','min','max']).reset_index()"
   ]
  },
  {
   "cell_type": "code",
   "execution_count": null,
   "metadata": {},
   "outputs": [],
   "source": []
  },
  {
   "cell_type": "code",
   "execution_count": null,
   "metadata": {},
   "outputs": [],
   "source": []
  },
  {
   "cell_type": "code",
   "execution_count": null,
   "metadata": {},
   "outputs": [],
   "source": []
  },
  {
   "cell_type": "code",
   "execution_count": null,
   "metadata": {},
   "outputs": [],
   "source": []
  },
  {
   "cell_type": "code",
   "execution_count": null,
   "metadata": {},
   "outputs": [],
   "source": []
  },
  {
   "cell_type": "code",
   "execution_count": null,
   "metadata": {},
   "outputs": [],
   "source": []
  },
  {
   "cell_type": "code",
   "execution_count": null,
   "metadata": {},
   "outputs": [],
   "source": []
  }
 ],
 "metadata": {
  "kernelspec": {
   "display_name": "Python 3",
   "language": "python",
   "name": "python3"
  },
  "language_info": {
   "codemirror_mode": {
    "name": "ipython",
    "version": 3
   },
   "file_extension": ".py",
   "mimetype": "text/x-python",
   "name": "python",
   "nbconvert_exporter": "python",
   "pygments_lexer": "ipython3",
   "version": "3.8.5"
  }
 },
 "nbformat": 4,
 "nbformat_minor": 4
}
